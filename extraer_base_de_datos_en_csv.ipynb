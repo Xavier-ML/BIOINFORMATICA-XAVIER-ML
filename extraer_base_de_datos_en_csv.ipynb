{
  "nbformat": 4,
  "nbformat_minor": 0,
  "metadata": {
    "colab": {
      "provenance": [],
      "authorship_tag": "ABX9TyMZ56hWb3yiXKk5QzPDtKVW",
      "include_colab_link": true
    },
    "kernelspec": {
      "name": "python3",
      "display_name": "Python 3"
    },
    "language_info": {
      "name": "python"
    }
  },
  "cells": [
    {
      "cell_type": "markdown",
      "metadata": {
        "id": "view-in-github",
        "colab_type": "text"
      },
      "source": [
        "<a href=\"https://colab.research.google.com/github/Xavier-ML/BIOINFORMATICA-Xavier-ML/blob/main/extraer_base_de_datos_en_csv.ipynb\" target=\"_parent\"><img src=\"https://colab.research.google.com/assets/colab-badge.svg\" alt=\"Open In Colab\"/></a>"
      ]
    },
    {
      "cell_type": "markdown",
      "source": [
        "# Obtener csv de datos de las siguientes URL\n",
        "* STEP1:  Extraer SMILE\n",
        "* STEP2:  \n",
        "\n",
        "URL1: http://pscdb.appsbio.utalca.cl/viewSearch/index.php\n",
        "\n",
        "URL2: https://perunpdb.com.pe/\n",
        "\n",
        "URL3: https://zinc.docking.org/substances/home/\n",
        "\n",
        "URL4: https://www.ebi.ac.uk/chembl/\n",
        "\n",
        "URL5: https://pubchem.ncbi.nlm.nih.gov/gene/691520\n",
        "\n",
        "URL6: https://www.ncbi.nlm.nih.gov/\n"
      ],
      "metadata": {
        "id": "CMFycDxPfdxA"
      }
    },
    {
      "cell_type": "code",
      "execution_count": 10,
      "metadata": {
        "id": "suMWx3hnZ7uC"
      },
      "outputs": [],
      "source": [
        "URL1= \"http://pscdb.appsbio.utalca.cl/viewSearch/index.php\"\n",
        "URL2= \"https://perunpdb.com.pe/\"\n",
        "URL3= \"https://zinc.docking.org/substances/home/\"\n",
        "URL4= \"https://www.ebi.ac.uk/chembl/\"\n",
        "URL5= \"https://pubchem.ncbi.nlm.nih.gov/gene/691520]\"\n",
        "URL6= \"https://www.ncbi.nlm.nih.gov/\""
      ]
    },
    {
      "cell_type": "code",
      "source": [
        "import requests\n",
        "from bs4 import BeautifulSoup\n",
        "\n",
        "def extract_substance_info(url):\n",
        "  \"\"\"\n",
        "  Extracts the name and SMILES of a substance from a given URL.\n",
        "\n",
        "  Args:\n",
        "    url: The URL of the webpage containing the substance information.\n",
        "\n",
        "  Returns:\n",
        "    A dictionary containing the extracted name and SMILES, or None if not found.\n",
        "  \"\"\"\n",
        "  # Get the HTML content of the webpage\n",
        "  response = requests.get(url)\n",
        "  soup = BeautifulSoup(response.content, \"html.parser\")\n",
        "\n",
        "  # Find the element containing the substance name\n",
        "  name_element = soup.find(\"p\", class_=\"substance-name\")\n",
        "  if not name_element:\n",
        "    return None\n",
        "\n",
        "  # Extract the substance name\n",
        "  name = name_element.text.strip()\n",
        "\n",
        "  # Find the element containing the SMILES\n",
        "  smiles_element = soup.find(\"span\", class_=\"substance-smiles\")\n",
        "  if not smiles_element:\n",
        "    return None\n",
        "\n",
        "  # Extract the SMILES\n",
        "  smiles = smiles_element.text.strip()\n",
        "\n",
        "  # Return the extracted information\n",
        "  return {\"name\": name, \"smiles\": smiles}\n"
      ],
      "metadata": {
        "id": "6F1SvvyVhdnW"
      },
      "execution_count": 9,
      "outputs": []
    },
    {
      "cell_type": "code",
      "source": [
        "url = \"http://pscdb.appsbio.utalca.cl/viewSearch/index.php\"\n",
        "substance_info = extract_substance_info(url)\n",
        "\n",
        "if substance_info:\n",
        "  print(f\"Name: {substance_info['name']}\")\n",
        "  print(f\"SMILES: {substance_info['smiles']}\")\n",
        "else:\n",
        "  print(\"Failed to extract substance information.\")"
      ],
      "metadata": {
        "id": "zZgYDr3mjETm"
      },
      "execution_count": null,
      "outputs": []
    }
  ]
}