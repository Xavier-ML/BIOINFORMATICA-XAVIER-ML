{
  "nbformat": 4,
  "nbformat_minor": 0,
  "metadata": {
    "colab": {
      "provenance": [],
      "authorship_tag": "ABX9TyN9Lz24fJVjYXr0fyZEPMnV",
      "include_colab_link": true
    },
    "kernelspec": {
      "name": "python3",
      "display_name": "Python 3"
    },
    "language_info": {
      "name": "python"
    }
  },
  "cells": [
    {
      "cell_type": "markdown",
      "metadata": {
        "id": "view-in-github",
        "colab_type": "text"
      },
      "source": [
        "<a href=\"https://colab.research.google.com/github/Xavier-ML/BIOINFORMATICA-Xavier-ML/blob/main/extrac_sequence_file_from_pdb_file.ipynb\" target=\"_parent\"><img src=\"https://colab.research.google.com/assets/colab-badge.svg\" alt=\"Open In Colab\"/></a>"
      ]
    },
    {
      "cell_type": "code",
      "source": [
        "#instala la paqueteria de biopython\n",
        "pip install biopython"
      ],
      "metadata": {
        "colab": {
          "base_uri": "https://localhost:8080/",
          "height": 106
        },
        "id": "LcFj0i7DYxAh",
        "outputId": "b8dd1869-683c-40d2-e8a1-8e2eb8c1a355"
      },
      "execution_count": 21,
      "outputs": [
        {
          "output_type": "error",
          "ename": "SyntaxError",
          "evalue": "invalid syntax (<ipython-input-21-e48b1fa12915>, line 2)",
          "traceback": [
            "\u001b[0;36m  File \u001b[0;32m\"<ipython-input-21-e48b1fa12915>\"\u001b[0;36m, line \u001b[0;32m2\u001b[0m\n\u001b[0;31m    pip install biopython\u001b[0m\n\u001b[0m        ^\u001b[0m\n\u001b[0;31mSyntaxError\u001b[0m\u001b[0;31m:\u001b[0m invalid syntax\n"
          ]
        }
      ]
    },
    {
      "cell_type": "code",
      "source": [
        "#acceder a la carpeta trabajo de tu computadora\n",
        "%cd /home/xavier-ml/Escritorio/PROGRAMACION/bioinformatica/"
      ],
      "metadata": {
        "colab": {
          "base_uri": "https://localhost:8080/"
        },
        "id": "2FzlN24WB6zP",
        "outputId": "72fbf0d0-1e1c-46e8-d9e4-b14f24d5eb37"
      },
      "execution_count": 22,
      "outputs": [
        {
          "output_type": "stream",
          "name": "stdout",
          "text": [
            "[Errno 2] No such file or directory: '/home/xavier-ml/Escritorio/PROGRAMACION/bioinformatica/'\n",
            "/content\n"
          ]
        }
      ]
    },
    {
      "cell_type": "code",
      "source": [
        "pwd"
      ],
      "metadata": {
        "colab": {
          "base_uri": "https://localhost:8080/",
          "height": 35
        },
        "id": "QjlunG2uCJhT",
        "outputId": "1dfb6fbc-a450-4031-e088-5c6dec66b173"
      },
      "execution_count": 23,
      "outputs": [
        {
          "output_type": "execute_result",
          "data": {
            "text/plain": [
              "'/home/xavier-ml/Escritorio/PROGRAMACION/bioinformatica/'"
            ],
            "application/vnd.google.colaboratory.intrinsic+json": {
              "type": "string"
            }
          },
          "metadata": {},
          "execution_count": 23
        }
      ]
    },
    {
      "cell_type": "code",
      "source": [
        "from Bio import SeqIO\n",
        "PDB_file_path = '4e7n.pdb'\n",
        "query_chain_id = '4E7N:A'\n",
        "\n",
        "chain = {record.id: record.seq for record in SeqIO.parse(PDB_file_path, 'pdb-seqres')}\n",
        "query_chain = chain[query_chain_id]"
      ],
      "metadata": {
        "id": "94V65kvdbcnL"
      },
      "execution_count": 24,
      "outputs": []
    },
    {
      "cell_type": "code",
      "source": [
        "print(chain)"
      ],
      "metadata": {
        "colab": {
          "base_uri": "https://localhost:8080/"
        },
        "id": "LQELTLtsh0yJ",
        "outputId": "327fe7a3-9dbb-4f1b-b958-f812ec9ad4c0"
      },
      "execution_count": 25,
      "outputs": [
        {
          "output_type": "stream",
          "name": "stdout",
          "text": [
            "{'4E7N:A': Seq('IIGGDECNINEHRFLVALYTSRSRTLFCGGTLINQEWVLTAAHCDRKNFRIKLG...CPP')}\n"
          ]
        }
      ]
    },
    {
      "cell_type": "code",
      "source": [
        "print(query_chain)"
      ],
      "metadata": {
        "colab": {
          "base_uri": "https://localhost:8080/"
        },
        "id": "FO1xmN8ph6rB",
        "outputId": "10366e4f-d0fb-4a7b-d962-24effd92d732"
      },
      "execution_count": 26,
      "outputs": [
        {
          "output_type": "stream",
          "name": "stdout",
          "text": [
            "IIGGDECNINEHRFLVALYTSRSRTLFCGGTLINQEWVLTAAHCDRKNFRIKLGMHSKKVPNEDEQTRVPKEKFFCLSSKNYTLWDKDIMLIRLDSPVKNSKHIAPFSLPSSPPSVGSVCRIMGWGRISPTEGTYPDVPHCVNINLLEYEMCRAPYPEFELPATSRTLCAGILEGGKDTCKGDSGGPLICNGQFQGIASWGDDPCAQPHKPAAYTKVFDHLDWIENIIAGNTDASCPP\n"
          ]
        }
      ]
    },
    {
      "cell_type": "code",
      "source": [],
      "metadata": {
        "id": "LTcLZPkAiABG"
      },
      "execution_count": null,
      "outputs": []
    }
  ]
}