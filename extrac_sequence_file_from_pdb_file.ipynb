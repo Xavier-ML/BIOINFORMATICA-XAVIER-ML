{
  "nbformat": 4,
  "nbformat_minor": 0,
  "metadata": {
    "colab": {
      "provenance": [],
      "authorship_tag": "ABX9TyObD0lHfYKW49RP7IkOEpiK",
      "include_colab_link": true
    },
    "kernelspec": {
      "name": "python3",
      "display_name": "Python 3"
    },
    "language_info": {
      "name": "python"
    }
  },
  "cells": [
    {
      "cell_type": "markdown",
      "metadata": {
        "id": "view-in-github",
        "colab_type": "text"
      },
      "source": [
        "<a href=\"https://colab.research.google.com/github/Xavier-ML/BIOINFORMATICA-Xavier-ML/blob/main/extrac_sequence_file_from_pdb_file.ipynb\" target=\"_parent\"><img src=\"https://colab.research.google.com/assets/colab-badge.svg\" alt=\"Open In Colab\"/></a>"
      ]
    },
    {
      "cell_type": "code",
      "source": [
        "pip install biopython"
      ],
      "metadata": {
        "colab": {
          "base_uri": "https://localhost:8080/"
        },
        "id": "LcFj0i7DYxAh",
        "outputId": "bf0d8d5e-0182-40d6-83b5-d8e552a2f352"
      },
      "execution_count": 8,
      "outputs": [
        {
          "output_type": "stream",
          "name": "stdout",
          "text": [
            "Requirement already satisfied: biopython in /usr/local/lib/python3.10/dist-packages (1.83)\n",
            "Requirement already satisfied: numpy in /usr/local/lib/python3.10/dist-packages (from biopython) (1.25.2)\n"
          ]
        }
      ]
    },
    {
      "cell_type": "code",
      "source": [
        "from Bio import SeqIO\n",
        "PDB_file_path = '4e7n.pdb'\n",
        "query_chain_id = '4E7N:A'\n",
        "\n",
        "chain = {record.id: record.seq for record in SeqIO.parse(PDB_file_path, 'pdb-seqres')}\n",
        "query_chain = chain[query_chain_id]"
      ],
      "metadata": {
        "id": "94V65kvdbcnL"
      },
      "execution_count": 9,
      "outputs": []
    },
    {
      "cell_type": "code",
      "source": [
        "print(chain)"
      ],
      "metadata": {
        "colab": {
          "base_uri": "https://localhost:8080/"
        },
        "id": "LQELTLtsh0yJ",
        "outputId": "8a28cfde-7505-41d8-bc24-18a670716563"
      },
      "execution_count": 10,
      "outputs": [
        {
          "output_type": "stream",
          "name": "stdout",
          "text": [
            "{'4E7N:A': Seq('IIGGDECNINEHRFLVALYTSRSRTLFCGGTLINQEWVLTAAHCDRKNFRIKLG...CPP')}\n"
          ]
        }
      ]
    },
    {
      "cell_type": "code",
      "source": [
        "print(query_chain)"
      ],
      "metadata": {
        "colab": {
          "base_uri": "https://localhost:8080/"
        },
        "id": "FO1xmN8ph6rB",
        "outputId": "b54a638b-938d-4893-de27-680cbfef0da3"
      },
      "execution_count": 11,
      "outputs": [
        {
          "output_type": "stream",
          "name": "stdout",
          "text": [
            "IIGGDECNINEHRFLVALYTSRSRTLFCGGTLINQEWVLTAAHCDRKNFRIKLGMHSKKVPNEDEQTRVPKEKFFCLSSKNYTLWDKDIMLIRLDSPVKNSKHIAPFSLPSSPPSVGSVCRIMGWGRISPTEGTYPDVPHCVNINLLEYEMCRAPYPEFELPATSRTLCAGILEGGKDTCKGDSGGPLICNGQFQGIASWGDDPCAQPHKPAAYTKVFDHLDWIENIIAGNTDASCPP\n"
          ]
        }
      ]
    },
    {
      "cell_type": "code",
      "source": [],
      "metadata": {
        "id": "LTcLZPkAiABG"
      },
      "execution_count": null,
      "outputs": []
    }
  ]
}